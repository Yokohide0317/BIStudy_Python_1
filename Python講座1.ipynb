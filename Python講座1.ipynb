{
  "nbformat": 4,
  "nbformat_minor": 0,
  "metadata": {
    "colab": {
      "provenance": [],
      "collapsed_sections": [],
      "authorship_tag": "ABX9TyPQ9PR+qpmYynd2vgz3Kdt4"
    },
    "kernelspec": {
      "name": "python3",
      "display_name": "Python 3"
    },
    "language_info": {
      "name": "python"
    }
  },
  "cells": [
    {
      "cell_type": "code",
      "source": [
        "print(\"Hello, World!!\")"
      ],
      "metadata": {
        "id": "EZB0bWDzsZpP",
        "colab": {
          "base_uri": "https://localhost:8080/"
        },
        "outputId": "adaa6539-f5e0-472d-dfe4-209958913030"
      },
      "execution_count": 1,
      "outputs": [
        {
          "output_type": "stream",
          "name": "stdout",
          "text": [
            "Hello, World!!\n"
          ]
        }
      ]
    },
    {
      "cell_type": "markdown",
      "source": [
        "# 四則演算"
      ],
      "metadata": {
        "id": "MRCLZeuUJx0N"
      }
    },
    {
      "cell_type": "code",
      "source": [
        "# 足し算\n",
        "test1 = 1 + 1\n",
        "print(test1)\n",
        "\n",
        "# 引き算\n",
        "test2 = 5 - 1\n",
        "print(test2)\n",
        "\n",
        "# 掛け算\n",
        "test3 = 11 * 13\n",
        "print(test3)\n",
        "\n",
        "# 割り算\n",
        "test4 = 10 / 3\n",
        "print(test4)\n",
        "\n",
        "# (おまけ) 割り算の余り\n",
        "test5 = 10 % 3\n",
        "print(test5)"
      ],
      "metadata": {
        "colab": {
          "base_uri": "https://localhost:8080/"
        },
        "id": "g1YlpNDGJxX3",
        "outputId": "e253080a-71f4-4c1c-92f9-b8d0ea6cb017"
      },
      "execution_count": 7,
      "outputs": [
        {
          "output_type": "stream",
          "name": "stdout",
          "text": [
            "2\n",
            "4\n",
            "143\n",
            "3.3333333333333335\n",
            "1\n"
          ]
        }
      ]
    },
    {
      "cell_type": "markdown",
      "source": [
        "# 変数とは"
      ],
      "metadata": {
        "id": "YalEh0C3JLlI"
      }
    },
    {
      "cell_type": "code",
      "source": [
        "# 文字や数字を入れておく箱\n",
        "a = 10\n",
        "b = 5\n",
        "c = 1"
      ],
      "metadata": {
        "id": "qC98a25lHLZ5"
      },
      "execution_count": 6,
      "outputs": []
    },
    {
      "cell_type": "code",
      "source": [
        "# （変数無しで、）1個100円のりんご、200円のキウイ、300円のバナナの、消費税込み値段を求める\n",
        "price = 100 * 1.1 + 200 * 1.1  + 300 * 1.1\n",
        "print(price)"
      ],
      "metadata": {
        "colab": {
          "base_uri": "https://localhost:8080/"
        },
        "id": "3m7qHf9rJP63",
        "outputId": "f8984114-f217-45c4-924b-b945228c7574"
      },
      "execution_count": 8,
      "outputs": [
        {
          "output_type": "stream",
          "name": "stdout",
          "text": [
            "660.0\n"
          ]
        }
      ]
    },
    {
      "cell_type": "code",
      "source": [
        "# 税率が変わった！1.8に変更！！\n",
        "price = 100 * 1.8 + 200 * 1.8  + 300 * 1.8\n",
        "print(price)"
      ],
      "metadata": {
        "id": "MphgR-2wK7op"
      },
      "execution_count": null,
      "outputs": []
    },
    {
      "cell_type": "code",
      "source": [
        "# 変数を使ったら簡単！！！\n",
        "tax = 1.1\n",
        "price = 100 * tax + 200 * tax  + 300 * tax\n",
        "print(price)\n",
        "\n",
        "tax = 1.8\n",
        "price = 100 * tax + 200 * tax  + 300 * tax\n",
        "print(price)"
      ],
      "metadata": {
        "colab": {
          "base_uri": "https://localhost:8080/"
        },
        "id": "Hx-prwA4KnkM",
        "outputId": "b6f62c4b-c733-40ed-ff67-f8db75c8c33a"
      },
      "execution_count": 10,
      "outputs": [
        {
          "output_type": "stream",
          "name": "stdout",
          "text": [
            "660.0\n",
            "1080.0\n"
          ]
        }
      ]
    },
    {
      "cell_type": "markdown",
      "source": [
        "## 演習2\n",
        "次の変数をうまく使って、Appleを5個、Orangeを2個、Cherryを4個買った時の金額を求めなさい。<br>ただし、表示されている金額は税抜きです。消費税10%として税込みの金額を求めてください。"
      ],
      "metadata": {
        "id": "ysJDAcVGLXy-"
      }
    },
    {
      "cell_type": "code",
      "source": [
        "apple = 210\n",
        "orange = 320\n",
        "cherry = 190"
      ],
      "metadata": {
        "id": "AFgWwi_ZL_tP"
      },
      "execution_count": 12,
      "outputs": []
    },
    {
      "cell_type": "code",
      "source": [
        "# 回答1\n",
        "tax = 1.1\n",
        "price = apple * tax + orange * tax + cherry * tax\n",
        "print(price)"
      ],
      "metadata": {
        "colab": {
          "base_uri": "https://localhost:8080/"
        },
        "id": "7TUR13xxHOsH",
        "outputId": "98bf18be-7b5b-47c1-827b-c1e09a14528e"
      },
      "execution_count": 13,
      "outputs": [
        {
          "output_type": "stream",
          "name": "stdout",
          "text": [
            "792.0\n"
          ]
        }
      ]
    },
    {
      "cell_type": "code",
      "source": [
        "# 回答2\n",
        "tax = 1.1\n",
        "price = (apple + orange + cherry) * tax\n",
        "print(price)"
      ],
      "metadata": {
        "colab": {
          "base_uri": "https://localhost:8080/"
        },
        "id": "parW9gFPMUvJ",
        "outputId": "09ce3178-4df6-4a62-f817-35c99eb09a35"
      },
      "execution_count": 14,
      "outputs": [
        {
          "output_type": "stream",
          "name": "stdout",
          "text": [
            "792.0000000000001\n"
          ]
        }
      ]
    },
    {
      "cell_type": "markdown",
      "source": [
        "# 関数\n",
        "\n",
        "### 工場のマニュアルをイメージ"
      ],
      "metadata": {
        "id": "oVJ4EWCIMnFO"
      }
    },
    {
      "cell_type": "markdown",
      "source": [
        "### 関数の定義\n",
        "(. . . .はインデント(Tabキーを押すと入力される)<br><br>\n",
        "def 関数名(引数1, 引数2...):<br>. . . .処理<br>. . . . return 戻り値\n",
        "\n",
        "<br>\n",
        "\n",
        "### 関数の使い方\n",
        "変数 = 関数名(引数1, 引数2...)"
      ],
      "metadata": {
        "id": "YAAZGkCeOPLr"
      }
    },
    {
      "cell_type": "code",
      "source": [
        "# 基本形態\n",
        "### Pythonは、日本語で関数(&変数)を作れます！（本当は良くないけど）\n",
        "\n",
        "def 足した答え(x, y):\n",
        "    res = x + y\n",
        "    return res\n",
        "\n",
        "response = 足した答え(10, 20)\n",
        "print(response)"
      ],
      "metadata": {
        "colab": {
          "base_uri": "https://localhost:8080/"
        },
        "id": "i3smWxJSMkGx",
        "outputId": "57bd1360-d5e5-4c26-d514-6a577fa6756b"
      },
      "execution_count": 16,
      "outputs": [
        {
          "output_type": "stream",
          "name": "stdout",
          "text": [
            "30\n"
          ]
        }
      ]
    },
    {
      "cell_type": "markdown",
      "source": [
        "# 演習3\n",
        "\n",
        "数字を入力したら、10%の税率で消費税込みの値段を返してくれる、\"calc_tax\"という関数を作成してください。"
      ],
      "metadata": {
        "id": "GiTMO_KAQWu4"
      }
    },
    {
      "cell_type": "code",
      "source": [
        "# 回答\n",
        "def calc_tax(original_price):\n",
        "    price = original_price * 1.1\n",
        "    return price\n",
        "\n",
        "calc_tax(100)"
      ],
      "metadata": {
        "colab": {
          "base_uri": "https://localhost:8080/"
        },
        "id": "YwiRtfPSOOdD",
        "outputId": "2464a94c-5d4f-4e3b-febe-7ea2d75bf9d2"
      },
      "execution_count": 18,
      "outputs": [
        {
          "output_type": "execute_result",
          "data": {
            "text/plain": [
              "110.00000000000001"
            ]
          },
          "metadata": {},
          "execution_count": 18
        }
      ]
    },
    {
      "cell_type": "markdown",
      "source": [
        "# list形式"
      ],
      "metadata": {
        "id": "6e66xVXpRTb1"
      }
    },
    {
      "cell_type": "code",
      "source": [
        "number_list = [1, 2, 3, 4, 5, 6]\n",
        "print(number_list)"
      ],
      "metadata": {
        "colab": {
          "base_uri": "https://localhost:8080/"
        },
        "id": "YnXbFeSKHSlP",
        "outputId": "5b4261a1-849b-4da1-b356-88eb42870fbd"
      },
      "execution_count": 19,
      "outputs": [
        {
          "output_type": "stream",
          "name": "stdout",
          "text": [
            "[1, 2, 3, 4, 5, 6]\n"
          ]
        }
      ]
    },
    {
      "cell_type": "markdown",
      "source": [
        "# 繰り返し処理"
      ],
      "metadata": {
        "id": "LgVJ6sWCR89P"
      }
    },
    {
      "cell_type": "code",
      "source": [
        "# お肉の塊を順番にスライスしていくイメージ\n",
        "## 塊→number_list、 欠片→num\n",
        "\n",
        "for num in number_list:\n",
        "    # number_listが空になるまで中の処理を続ける。\n",
        "    print(num)"
      ],
      "metadata": {
        "colab": {
          "base_uri": "https://localhost:8080/"
        },
        "id": "bWvJIZh7HxG0",
        "outputId": "1574c15a-21f5-4758-d0fa-5e9f382cf940"
      },
      "execution_count": 22,
      "outputs": [
        {
          "output_type": "stream",
          "name": "stdout",
          "text": [
            "1\n",
            "2\n",
            "3\n",
            "4\n",
            "5\n",
            "6\n"
          ]
        }
      ]
    },
    {
      "cell_type": "markdown",
      "source": [
        "# 演習5\n",
        "\"number_list\"に1から10の数を入れて、for文を使ってすべて足した数字を求めなさい。"
      ],
      "metadata": {
        "id": "UdzMhFhaTlKk"
      }
    },
    {
      "cell_type": "code",
      "source": [
        "# 回答1\n",
        "number_list = [1, 2, 3, 4, 5, 6, 7, 8, 9, 10]\n",
        "all = 0\n",
        "\n",
        "for num in number_list:\n",
        "    all = all + num\n",
        "\n",
        "print(all)"
      ],
      "metadata": {
        "colab": {
          "base_uri": "https://localhost:8080/"
        },
        "id": "6A8uNd-tH1Oe",
        "outputId": "ff83b3c1-eb4a-4d7c-f93b-87a6ddf51ba1"
      },
      "execution_count": 23,
      "outputs": [
        {
          "output_type": "stream",
          "name": "stdout",
          "text": [
            "55\n"
          ]
        }
      ]
    },
    {
      "cell_type": "code",
      "source": [
        "# 回答2\n",
        "number_list = range(1, 11) # 1以上11未満の配列を作成\n",
        "all = 0\n",
        "\n",
        "for num in number_list:\n",
        "    all = all + num\n",
        "\n",
        "print(all)"
      ],
      "metadata": {
        "colab": {
          "base_uri": "https://localhost:8080/"
        },
        "id": "MMhpSSKKUG0o",
        "outputId": "302c9fc1-0f15-419e-a050-ddbd129a3524"
      },
      "execution_count": 27,
      "outputs": [
        {
          "output_type": "stream",
          "name": "stdout",
          "text": [
            "55\n"
          ]
        }
      ]
    },
    {
      "cell_type": "markdown",
      "source": [
        "# if文"
      ],
      "metadata": {
        "id": "1aUzfniIUiao"
      }
    },
    {
      "cell_type": "code",
      "source": [
        "# 条件式\n",
        "## aとbが等しい\n",
        "a = 5\n",
        "b = 5\n",
        "print(a == b)"
      ],
      "metadata": {
        "colab": {
          "base_uri": "https://localhost:8080/"
        },
        "id": "aK0zLemEUVUq",
        "outputId": "ba6074bd-6826-4123-dcc2-53636d4b2e4f"
      },
      "execution_count": 28,
      "outputs": [
        {
          "output_type": "stream",
          "name": "stdout",
          "text": [
            "True\n"
          ]
        }
      ]
    },
    {
      "cell_type": "code",
      "source": [
        "## aがbより大きい\n",
        "a = 1\n",
        "b = 5\n",
        "print(a > b)"
      ],
      "metadata": {
        "colab": {
          "base_uri": "https://localhost:8080/"
        },
        "id": "4oTHcmOsUyQX",
        "outputId": "2568a497-ee87-45a9-8aab-f7248cfa7b46"
      },
      "execution_count": 29,
      "outputs": [
        {
          "output_type": "stream",
          "name": "stdout",
          "text": [
            "False\n"
          ]
        }
      ]
    },
    {
      "cell_type": "code",
      "source": [
        "## aがbより小さい\n",
        "a = 1\n",
        "b = 5\n",
        "print(a < b)"
      ],
      "metadata": {
        "colab": {
          "base_uri": "https://localhost:8080/"
        },
        "id": "AbJECd6mU3j2",
        "outputId": "23680d71-638d-4fe2-c75a-4c737f877c0e"
      },
      "execution_count": 30,
      "outputs": [
        {
          "output_type": "stream",
          "name": "stdout",
          "text": [
            "True\n"
          ]
        }
      ]
    },
    {
      "cell_type": "code",
      "source": [
        "## aはb以上\n",
        "a = 1\n",
        "b = 5\n",
        "print(a >= b)"
      ],
      "metadata": {
        "colab": {
          "base_uri": "https://localhost:8080/"
        },
        "id": "A-H5QAZxU6eo",
        "outputId": "76f52be6-4ab5-438f-aea2-eaf1bae607ab"
      },
      "execution_count": 31,
      "outputs": [
        {
          "output_type": "stream",
          "name": "stdout",
          "text": [
            "False\n"
          ]
        }
      ]
    },
    {
      "cell_type": "code",
      "source": [
        "## aはbと等しくない\n",
        "a = 1\n",
        "b = 5\n",
        "print(a != b)"
      ],
      "metadata": {
        "colab": {
          "base_uri": "https://localhost:8080/"
        },
        "id": "GPUxBN4CVAcC",
        "outputId": "43129d89-98ef-476b-c89a-a4fe2380437a"
      },
      "execution_count": 32,
      "outputs": [
        {
          "output_type": "stream",
          "name": "stdout",
          "text": [
            "True\n"
          ]
        }
      ]
    },
    {
      "cell_type": "code",
      "source": [
        "# 上の条件式を使って、条件分岐を作ります！！！\n",
        "# if 条件式:\n",
        "#   Trueの場合の処理\n",
        "# else:\n",
        "#   Falseの場合の処理\n",
        "a = 1\n",
        "b = 5\n",
        "if a > b:\n",
        "    print(\"aはbよりも大きいです！\")\n",
        "else:\n",
        "    print(\"aはbよりも大きくないです...\")"
      ],
      "metadata": {
        "colab": {
          "base_uri": "https://localhost:8080/"
        },
        "id": "kUAQHjnLVG2J",
        "outputId": "c94afae3-e852-436e-8f98-501a142f180e"
      },
      "execution_count": 33,
      "outputs": [
        {
          "output_type": "stream",
          "name": "stdout",
          "text": [
            "aはbよりも大きくないです...\n"
          ]
        }
      ]
    },
    {
      "cell_type": "code",
      "source": [
        "# ifとelseの間に、elifを入れると、条件分岐をもっと増やせる。\n",
        "a = 1\n",
        "b = 5\n",
        "if a > b:\n",
        "    print(\"aはbよりも大きいです！\")\n",
        "elif a < b:\n",
        "    print(\"bはaよりも大きいです！\")\n",
        "else:\n",
        "    pass # 何もしない"
      ],
      "metadata": {
        "colab": {
          "base_uri": "https://localhost:8080/"
        },
        "id": "I9SvK9F0VhlH",
        "outputId": "dfaa0666-2c50-4d90-a13c-fb45e3870c1a"
      },
      "execution_count": 38,
      "outputs": [
        {
          "output_type": "stream",
          "name": "stdout",
          "text": [
            "bはaよりも大きいです！\n"
          ]
        }
      ]
    },
    {
      "cell_type": "code",
      "source": [
        "# 文字もできる！\n",
        "you = \"俺\"\n",
        "if you == \"俺\":\n",
        "    print(\"俺です。\")\n",
        "else:\n",
        "    print(\"俺以外です。\")"
      ],
      "metadata": {
        "colab": {
          "base_uri": "https://localhost:8080/"
        },
        "id": "crTtzxpiVxvO",
        "outputId": "ca078090-f173-4a87-8501-4daa800c8777"
      },
      "execution_count": 37,
      "outputs": [
        {
          "output_type": "stream",
          "name": "stdout",
          "text": [
            "俺です。\n"
          ]
        }
      ]
    },
    {
      "cell_type": "markdown",
      "source": [
        "# 演習6\n",
        "下の塩基配列を、for文の繰り返し処理と、ifの条件分岐で、Aの数を数えてください。<br>\n",
        "atgc = \"ATGCGGACTAGTTAC\""
      ],
      "metadata": {
        "id": "WD91h6FIWLRE"
      }
    },
    {
      "cell_type": "code",
      "source": [
        "atgc = \"ATGCGGACTAGTTAC\"\n",
        "count = 0\n",
        "\n",
        "for nucl in atgc:\n",
        "    if nucl == \"A\":\n",
        "        count = count + 1\n",
        "    else:\n",
        "        pass\n",
        "\n",
        "print(count)"
      ],
      "metadata": {
        "colab": {
          "base_uri": "https://localhost:8080/"
        },
        "id": "jEZ6lDopWAzq",
        "outputId": "39ae7421-4190-4ed3-d8f6-1128171a482c"
      },
      "execution_count": 39,
      "outputs": [
        {
          "output_type": "stream",
          "name": "stdout",
          "text": [
            "4\n"
          ]
        }
      ]
    },
    {
      "cell_type": "code",
      "source": [
        "# 実は、文に含まれる文字を簡単にカウントできます。\n",
        "atgc.count(\"A\")"
      ],
      "metadata": {
        "colab": {
          "base_uri": "https://localhost:8080/"
        },
        "id": "CNkei1O7W2CT",
        "outputId": "edccfbfa-2b39-463c-c86d-90ddb568de01"
      },
      "execution_count": 42,
      "outputs": [
        {
          "output_type": "execute_result",
          "data": {
            "text/plain": [
              "4"
            ]
          },
          "metadata": {},
          "execution_count": 42
        }
      ]
    },
    {
      "cell_type": "markdown",
      "source": [
        "# 　演習7\n",
        "※ちょっと難しいです<br>\n",
        "1から100までの配列を作成し、奇数だけをprintしてください。"
      ],
      "metadata": {
        "id": "HwmemYL2XHLy"
      }
    },
    {
      "cell_type": "code",
      "source": [
        "num_list = range(1, 101)\n",
        "for num in num_list:\n",
        "    if num % 2 == 1:\n",
        "        print(num)\n"
      ],
      "metadata": {
        "colab": {
          "base_uri": "https://localhost:8080/"
        },
        "id": "fgvZ-pa8W57p",
        "outputId": "550989a5-91c8-460f-853c-30760009565a"
      },
      "execution_count": 44,
      "outputs": [
        {
          "output_type": "stream",
          "name": "stdout",
          "text": [
            "1\n",
            "3\n",
            "5\n",
            "7\n",
            "9\n",
            "11\n",
            "13\n",
            "15\n",
            "17\n",
            "19\n",
            "21\n",
            "23\n",
            "25\n",
            "27\n",
            "29\n",
            "31\n",
            "33\n",
            "35\n",
            "37\n",
            "39\n",
            "41\n",
            "43\n",
            "45\n",
            "47\n",
            "49\n",
            "51\n",
            "53\n",
            "55\n",
            "57\n",
            "59\n",
            "61\n",
            "63\n",
            "65\n",
            "67\n",
            "69\n",
            "71\n",
            "73\n",
            "75\n",
            "77\n",
            "79\n",
            "81\n",
            "83\n",
            "85\n",
            "87\n",
            "89\n",
            "91\n",
            "93\n",
            "95\n",
            "97\n",
            "99\n"
          ]
        }
      ]
    },
    {
      "cell_type": "code",
      "source": [],
      "metadata": {
        "id": "N0e533rkXzPC"
      },
      "execution_count": null,
      "outputs": []
    },
    {
      "cell_type": "code",
      "source": [
        "# 算数の計算ドリルなどを探して、Pythonで解いてみたりすると身につきやすいです！\n",
        "\n",
        "# Pythonはいろんなところにチュートリアルや参考書があるので、いろいろやってみてください！\n",
        "\n",
        "# 次のPython講座(日程は未定)では、Pythonで実演しながら,\n",
        "#「教師あり学習」と「教師なし学習」など、機械学習について解説しようと思っています！"
      ],
      "metadata": {
        "id": "MFDXGUDCYjC2"
      },
      "execution_count": 45,
      "outputs": []
    },
    {
      "cell_type": "markdown",
      "source": [
        "# 番外編"
      ],
      "metadata": {
        "id": "fXdXXqytlOdP"
      }
    },
    {
      "cell_type": "code",
      "source": [
        "from sklearn.datasets import load_iris\n",
        "import pandas as pd\n",
        "iris = load_iris()"
      ],
      "metadata": {
        "id": "R_1_KL7sY8LT"
      },
      "execution_count": 1,
      "outputs": []
    },
    {
      "cell_type": "code",
      "source": [],
      "metadata": {
        "id": "KpDxAq7VlP4I"
      },
      "execution_count": null,
      "outputs": []
    }
  ]
}